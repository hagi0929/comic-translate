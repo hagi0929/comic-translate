{
 "cells": [
  {
   "cell_type": "code",
   "id": "initial_id",
   "metadata": {
    "collapsed": true,
    "ExecuteTime": {
     "end_time": "2025-04-15T02:44:25.304929Z",
     "start_time": "2025-04-15T02:44:25.232789Z"
    }
   },
   "source": [
    "import os, sys\n",
    "from controller import ComicTranslate\n",
    "\n",
    "ct = ComicTranslate()"
   ],
   "outputs": [
    {
     "ename": "TypeError",
     "evalue": "'PySide6.QtGui.QUndoGroup.__init__' called with wrong argument types:\n  PySide6.QtGui.QUndoGroup.__init__(ComicTranslate)\nSupported signatures:\n  PySide6.QtGui.QUndoGroup.__init__(parent: PySide6.QtCore.QObject | None = None)",
     "output_type": "error",
     "traceback": [
      "\u001B[31m---------------------------------------------------------------------------\u001B[39m",
      "\u001B[31mTypeError\u001B[39m                                 Traceback (most recent call last)",
      "\u001B[36mCell\u001B[39m\u001B[36m \u001B[39m\u001B[32mIn[6]\u001B[39m\u001B[32m, line 4\u001B[39m\n\u001B[32m      1\u001B[39m \u001B[38;5;28;01mimport\u001B[39;00m\u001B[38;5;250m \u001B[39m\u001B[34;01mos\u001B[39;00m,\u001B[38;5;250m \u001B[39m\u001B[34;01msys\u001B[39;00m\n\u001B[32m      2\u001B[39m \u001B[38;5;28;01mfrom\u001B[39;00m\u001B[38;5;250m \u001B[39m\u001B[34;01mcontroller\u001B[39;00m\u001B[38;5;250m \u001B[39m\u001B[38;5;28;01mimport\u001B[39;00m ComicTranslate\n\u001B[32m----> \u001B[39m\u001B[32m4\u001B[39m ct = \u001B[43mComicTranslate\u001B[49m\u001B[43m(\u001B[49m\u001B[43m)\u001B[49m\n",
      "\u001B[36mFile \u001B[39m\u001B[32mC:\\repos\\comic-translate\\controller.py:66\u001B[39m, in \u001B[36mComicTranslate.__init__\u001B[39m\u001B[34m(self, parent)\u001B[39m\n\u001B[32m     63\u001B[39m \u001B[38;5;28mself\u001B[39m.current_history_index = {}  \u001B[38;5;66;03m# Current position in the history for each image\u001B[39;00m\n\u001B[32m     64\u001B[39m \u001B[38;5;28mself\u001B[39m.displayed_images = \u001B[38;5;28mset\u001B[39m()  \u001B[38;5;66;03m# Set to track displayed images\u001B[39;00m\n\u001B[32m---> \u001B[39m\u001B[32m66\u001B[39m \u001B[38;5;28mself\u001B[39m.undo_group = \u001B[43mQUndoGroup\u001B[49m\u001B[43m(\u001B[49m\u001B[38;5;28;43mself\u001B[39;49m\u001B[43m)\u001B[49m\n\u001B[32m     67\u001B[39m \u001B[38;5;28mself\u001B[39m.undo_stacks = {}\n\u001B[32m     69\u001B[39m \u001B[38;5;28mself\u001B[39m.curr_tblock = \u001B[38;5;28;01mNone\u001B[39;00m\n",
      "\u001B[31mTypeError\u001B[39m: 'PySide6.QtGui.QUndoGroup.__init__' called with wrong argument types:\n  PySide6.QtGui.QUndoGroup.__init__(ComicTranslate)\nSupported signatures:\n  PySide6.QtGui.QUndoGroup.__init__(parent: PySide6.QtCore.QObject | None = None)"
     ]
    }
   ],
   "execution_count": 6
  },
  {
   "metadata": {},
   "cell_type": "code",
   "outputs": [],
   "execution_count": null,
   "source": "",
   "id": "254e529992f194e8"
  }
 ],
 "metadata": {
  "kernelspec": {
   "display_name": "Python 3",
   "language": "python",
   "name": "python3"
  },
  "language_info": {
   "codemirror_mode": {
    "name": "ipython",
    "version": 2
   },
   "file_extension": ".py",
   "mimetype": "text/x-python",
   "name": "python",
   "nbconvert_exporter": "python",
   "pygments_lexer": "ipython2",
   "version": "2.7.6"
  }
 },
 "nbformat": 4,
 "nbformat_minor": 5
}
